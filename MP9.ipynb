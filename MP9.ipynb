{
 "cells": [
  {
   "cell_type": "markdown",
   "metadata": {},
   "source": [
    "# <center>Miniproyecto 9</center>\n",
    "## <center>Modelación y Simulación</center>\n",
    "<center>Javier Anleu Alegría - 17149</center>\n",
    "\n",
    "<center>Andrea Argüello - 17801</center>"
   ]
  },
  {
   "cell_type": "markdown",
   "metadata": {},
   "source": [
    "## Librerías"
   ]
  },
  {
   "cell_type": "code",
   "execution_count": 1,
   "metadata": {},
   "outputs": [],
   "source": [
    "from pyeasyga.pyeasyga import GeneticAlgorithm\n",
    "import math\n",
    "import random"
   ]
  },
  {
   "cell_type": "markdown",
   "metadata": {},
   "source": [
    "## Ejercicio 1\n",
    "$$\\max \\Big(f(x_1,x_2)\\Big)$$\n",
    "\n",
    "Donde:\n",
    "$$f(x_1,x_2)=15x_1 + 30x_2 + 4x_1 x_2 -2x_1^2 -4x_2^2$$\n",
    "$$x_1+2x_2 \\leq 30$$\n",
    "$$x_1\\geq 0$$\n",
    "$$x_2\\geq 0$$"
   ]
  },
  {
   "cell_type": "markdown",
   "metadata": {},
   "source": [
    "**Parámetros para el algoritmo genético:**\n",
    "* `popSize`: Tamaño de la población\n",
    "* `gens`: número de generaciones\n",
    "* `crossProbs`: probabilidad de cruce entre individuos\n",
    "* `mutateProbs`: probabilidad de mutaciones\n",
    "* `theElite`: boolean para indicarle a `pyeasyga` que utilice a los mejores de cada generación\n",
    "* `maxim`: boolean para indicarle a `pyeasyga` que se busca maximizar"
   ]
  },
  {
   "cell_type": "markdown",
   "metadata": {},
   "source": [
    "Configuración del *seed*:"
   ]
  },
  {
   "cell_type": "code",
   "execution_count": 2,
   "metadata": {},
   "outputs": [],
   "source": [
    "random.seed(0.5+(5**(0.5))/2)"
   ]
  },
  {
   "cell_type": "code",
   "execution_count": 3,
   "metadata": {},
   "outputs": [],
   "source": [
    "popSize = 20\n",
    "gens = 500\n",
    "crossProbs = 0.75\n",
    "mutateProbs = 0.5\n",
    "theElite = True\n",
    "maxim = True"
   ]
  },
  {
   "cell_type": "code",
   "execution_count": 4,
   "metadata": {},
   "outputs": [],
   "source": [
    "def fitness(individual, data):\n",
    "    x1_split = individual[0:7]\n",
    "    x2_split = individual[7:]\n",
    "    \n",
    "    x_1 = int(\"\".join(str(i) for i in x1_split), 2) / 10\n",
    "    x_2 = int(\"\".join(str(i) for i in x2_split), 2) / 10\n",
    "    if 0 <= x_1 and 0 <= x_2 and (x_1+2*x_2) <= 30 :\n",
    "        return 15*x_1 + 30*x_2 + 4*x_1*x_2 - 2*(x_1**2) -4*(x_2**2)\n",
    "    else:\n",
    "        return -100\n",
    "\n",
    "\n",
    "data = [1 for _ in range(14)]\n",
    "\n",
    "ga = GeneticAlgorithm(data,\n",
    "                       population_size=popSize,\n",
    "                       generations=gens,\n",
    "                       crossover_probability=crossProbs,\n",
    "                       mutation_probability=mutateProbs,\n",
    "                       elitism=theElite,\n",
    "                       maximise_fitness=maxim)\n",
    "ga.fitness_function = fitness\n",
    "ga.run()"
   ]
  },
  {
   "cell_type": "markdown",
   "metadata": {},
   "source": [
    "**Máximo de la función:** $$\\max \\Big(f(x_1,x_2)\\Big)$$"
   ]
  },
  {
   "cell_type": "code",
   "execution_count": 5,
   "metadata": {},
   "outputs": [
    {
     "name": "stdout",
     "output_type": "stream",
     "text": [
      "270.0\n"
     ]
    }
   ],
   "source": [
    "print(ga.best_individual()[0])"
   ]
  },
  {
   "cell_type": "markdown",
   "metadata": {},
   "source": [
    "$x_1$"
   ]
  },
  {
   "cell_type": "code",
   "execution_count": 6,
   "metadata": {},
   "outputs": [
    {
     "name": "stdout",
     "output_type": "stream",
     "text": [
      "12.0\n"
     ]
    }
   ],
   "source": [
    "x1_split = ga.best_individual()[1][0:7]\n",
    "x_1 = int(\"\".join(str(i) for i in x1_split), 2) / 10\n",
    "print(x_1)"
   ]
  },
  {
   "cell_type": "markdown",
   "metadata": {},
   "source": [
    "$x_2$"
   ]
  },
  {
   "cell_type": "code",
   "execution_count": 7,
   "metadata": {},
   "outputs": [
    {
     "name": "stdout",
     "output_type": "stream",
     "text": [
      "9.0\n"
     ]
    }
   ],
   "source": [
    "x2_split = ga.best_individual()[1][7:]\n",
    "x_2 = int(\"\".join(str(i) for i in x2_split), 2) / 10\n",
    "print(x_2)"
   ]
  },
  {
   "cell_type": "markdown",
   "metadata": {},
   "source": [
    "## Ejercicio 2\n",
    "$$\\max (z)$$\n",
    "\n",
    "Donde:\n",
    "$$z = 3x_1 + 5x_2$$\n",
    "$$3x_1+2x_2 \\leq 18$$\n",
    "$$x_1\\geq 0$$\n",
    "$$x_2\\geq 0$$"
   ]
  },
  {
   "cell_type": "markdown",
   "metadata": {},
   "source": [
    "**Parámetros para el algoritmo genético:**\n",
    "* `popSize`: Tamaño de la población\n",
    "* `gens`: número de generaciones\n",
    "* `crossProbs`: probabilidad de cruce entre individuos\n",
    "* `mutateProbs`: probabilidad de mutaciones\n",
    "* `theElite`: boolean para indicarle a `pyeasyga` que utilice a los mejores de cada generación\n",
    "* `maxim`: boolean para indicarle a `pyeasyga` que se busca maximizar"
   ]
  },
  {
   "cell_type": "markdown",
   "metadata": {},
   "source": [
    "Configuración del *seed*:"
   ]
  },
  {
   "cell_type": "code",
   "execution_count": 8,
   "metadata": {},
   "outputs": [],
   "source": [
    "random.seed(0.5+(5**(0.5))/2)"
   ]
  },
  {
   "cell_type": "code",
   "execution_count": 9,
   "metadata": {},
   "outputs": [],
   "source": [
    "popSize = 20\n",
    "gens = 500\n",
    "crossProbs = 0.75\n",
    "mutateProbs = 0.5\n",
    "theElite = True\n",
    "maxim = True"
   ]
  },
  {
   "cell_type": "code",
   "execution_count": 10,
   "metadata": {},
   "outputs": [],
   "source": [
    "def fitness(individual, data):\n",
    "    x1_split = individual[0:7]\n",
    "    x2_split = individual[7:]\n",
    "    \n",
    "    x_1 = int(\"\".join(str(i) for i in x1_split), 2) / 10\n",
    "    x_2 = int(\"\".join(str(i) for i in x2_split), 2) / 10\n",
    "    if 0 <= x_1 and 0 <= x_2 and (3*x_1+2*x_2) <= 18 :\n",
    "        return 3*x_1 + 5*x_2\n",
    "    else:\n",
    "        return -100\n",
    "\n",
    "\n",
    "data = [1 for _ in range(14)]\n",
    "\n",
    "ga = GeneticAlgorithm(data,\n",
    "                       population_size=popSize,\n",
    "                       generations=gens,\n",
    "                       crossover_probability=crossProbs,\n",
    "                       mutation_probability=mutateProbs,\n",
    "                       elitism=theElite,\n",
    "                       maximise_fitness=maxim)\n",
    "ga.fitness_function = fitness\n",
    "ga.run()"
   ]
  },
  {
   "cell_type": "markdown",
   "metadata": {},
   "source": [
    "**Máximo de la función:** $$\\max (z)$$"
   ]
  },
  {
   "cell_type": "code",
   "execution_count": 11,
   "metadata": {},
   "outputs": [
    {
     "name": "stdout",
     "output_type": "stream",
     "text": [
      "36.0\n"
     ]
    }
   ],
   "source": [
    "print(ga.best_individual()[0])"
   ]
  },
  {
   "cell_type": "markdown",
   "metadata": {},
   "source": [
    "$x_1$"
   ]
  },
  {
   "cell_type": "code",
   "execution_count": 12,
   "metadata": {},
   "outputs": [
    {
     "name": "stdout",
     "output_type": "stream",
     "text": [
      "1.5\n"
     ]
    }
   ],
   "source": [
    "x1_split = ga.best_individual()[1][0:7]\n",
    "x_1 = int(\"\".join(str(i) for i in x1_split), 2) / 10\n",
    "print(x_1)"
   ]
  },
  {
   "cell_type": "markdown",
   "metadata": {},
   "source": [
    "$x_2$"
   ]
  },
  {
   "cell_type": "code",
   "execution_count": 13,
   "metadata": {},
   "outputs": [
    {
     "name": "stdout",
     "output_type": "stream",
     "text": [
      "6.3\n"
     ]
    }
   ],
   "source": [
    "x2_split = ga.best_individual()[1][7:]\n",
    "x_2 = int(\"\".join(str(i) for i in x2_split), 2) / 10\n",
    "print(x_2)"
   ]
  },
  {
   "cell_type": "markdown",
   "metadata": {},
   "source": [
    "## Ejercicio 3\n",
    "$$\\max \\Big(f(x_1,x_2)\\Big)$$\n",
    "\n",
    "Donde:\n",
    "$$f(x_1,x_2)=5x_1 -x_1^2 + 8x_2 - 2x_2^2$$\n",
    "$$3x_1+2x_2 \\leq 6$$\n",
    "$$x_1\\geq 0$$\n",
    "$$x_2\\geq 0$$"
   ]
  },
  {
   "cell_type": "markdown",
   "metadata": {},
   "source": [
    "**Parámetros para el algoritmo genético:**\n",
    "* `popSize`: Tamaño de la población\n",
    "* `gens`: número de generaciones\n",
    "* `crossProbs`: probabilidad de cruce entre individuos\n",
    "* `mutateProbs`: probabilidad de mutaciones\n",
    "* `theElite`: boolean para indicarle a `pyeasyga` que utilice a los mejores de cada generación\n",
    "* `maxim`: boolean para indicarle a `pyeasyga` que se busca maximizar"
   ]
  },
  {
   "cell_type": "markdown",
   "metadata": {},
   "source": [
    "Configuración del *seed*:"
   ]
  },
  {
   "cell_type": "code",
   "execution_count": 14,
   "metadata": {},
   "outputs": [],
   "source": [
    "random.seed(0.5+(5**(0.5))/2)"
   ]
  },
  {
   "cell_type": "code",
   "execution_count": 15,
   "metadata": {},
   "outputs": [],
   "source": [
    "popSize = 20\n",
    "gens = 500\n",
    "crossProbs = 0.75\n",
    "mutateProbs = 0.5\n",
    "theElite = True\n",
    "maxim = True"
   ]
  },
  {
   "cell_type": "code",
   "execution_count": 16,
   "metadata": {},
   "outputs": [],
   "source": [
    "def fitness(individual, data):\n",
    "    x1_split = individual[0:7]\n",
    "    x2_split = individual[7:]\n",
    "    \n",
    "    x_1 = int(\"\".join(str(i) for i in x1_split), 2) / 10\n",
    "    x_2 = int(\"\".join(str(i) for i in x2_split), 2) / 10\n",
    "    if 0 <= x_1 and 0 <= x_2 and (3*x_1+2*x_2) <= 6 :\n",
    "        return 5*x_1 - x_1**2 + 8*x_2 - 2*(x_2**2)\n",
    "    else:\n",
    "        return -100\n",
    "\n",
    "\n",
    "data = [1 for _ in range(14)]\n",
    "\n",
    "ga = GeneticAlgorithm(data,\n",
    "                       population_size=popSize,\n",
    "                       generations=gens,\n",
    "                       crossover_probability=crossProbs,\n",
    "                       mutation_probability=mutateProbs,\n",
    "                       elitism=theElite,\n",
    "                       maximise_fitness=maxim)\n",
    "ga.fitness_function = fitness\n",
    "ga.run()"
   ]
  },
  {
   "cell_type": "markdown",
   "metadata": {},
   "source": [
    "**Máximo de la función:** $$\\max \\Big(f(x_1,x_2)\\Big)$$"
   ]
  },
  {
   "cell_type": "code",
   "execution_count": 17,
   "metadata": {},
   "outputs": [
    {
     "name": "stdout",
     "output_type": "stream",
     "text": [
      "11.5\n"
     ]
    }
   ],
   "source": [
    "print(ga.best_individual()[0])"
   ]
  },
  {
   "cell_type": "markdown",
   "metadata": {},
   "source": [
    "$x_1$"
   ]
  },
  {
   "cell_type": "code",
   "execution_count": 18,
   "metadata": {},
   "outputs": [
    {
     "name": "stdout",
     "output_type": "stream",
     "text": [
      "1.0\n"
     ]
    }
   ],
   "source": [
    "x1_split = ga.best_individual()[1][0:7]\n",
    "x_1 = int(\"\".join(str(i) for i in x1_split), 2) / 10\n",
    "print(x_1)"
   ]
  },
  {
   "cell_type": "markdown",
   "metadata": {},
   "source": [
    "$x_2$"
   ]
  },
  {
   "cell_type": "code",
   "execution_count": 19,
   "metadata": {},
   "outputs": [
    {
     "name": "stdout",
     "output_type": "stream",
     "text": [
      "1.5\n"
     ]
    }
   ],
   "source": [
    "x2_split = ga.best_individual()[1][7:]\n",
    "x_2 = int(\"\".join(str(i) for i in x2_split), 2) / 10\n",
    "print(x_2)"
   ]
  }
 ],
 "metadata": {
  "kernelspec": {
   "display_name": "Python 3",
   "language": "python",
   "name": "python3"
  },
  "language_info": {
   "codemirror_mode": {
    "name": "ipython",
    "version": 3
   },
   "file_extension": ".py",
   "mimetype": "text/x-python",
   "name": "python",
   "nbconvert_exporter": "python",
   "pygments_lexer": "ipython3",
   "version": "3.8.5"
  }
 },
 "nbformat": 4,
 "nbformat_minor": 4
}
